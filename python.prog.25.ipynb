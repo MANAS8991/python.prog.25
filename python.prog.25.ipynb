{
 "cells": [
  {
   "cell_type": "markdown",
   "id": "0ffd712c",
   "metadata": {},
   "source": [
    "# Q1 Create a function that takes three integer arguments (a, b, c) and returns the amount of integers which are of equal value.\n",
    "# Examples\n",
    "# equal(3, 4, 3) ➞ 2\n",
    "# equal(1, 1, 1) ➞ 3\n",
    "# equal(3, 4, 1) ➞ 0\n",
    "# Notes\n",
    "# Your function must return 0, 2 or 3."
   ]
  },
  {
   "cell_type": "code",
   "execution_count": null,
   "id": "8dab8c9a",
   "metadata": {},
   "outputs": [],
   "source": [
    "def equal(a, b, c):\n",
    "    if a == b == c:\n",
    "        return 3\n",
    "    elif a == b or a == c or b == c:\n",
    "        return 2\n",
    "    else:\n",
    "        return 0\n",
    "In this function, we first check if all three integers are equal (a == b == c). If they are, we return 3 since all integers have the same value.\n",
    "\n",
    "If the three integers are not all equal, we check for pairwise equality. If any two integers are equal, we return 2.\n",
    "\n",
    "If none of the above conditions are met, it means that all three integers have different values, so we return 0.\n",
    "\n",
    "Let's test the function with the given examples:\n",
    "\n",
    "print(equal(3, 4, 3))\n",
    "# Output: 2\n",
    "\n",
    "print(equal(1, 1, 1))\n",
    "# Output: 3\n",
    "\n",
    "print(equal(3, 4, 1))\n",
    "# Output: 0\n"
   ]
  },
  {
   "cell_type": "markdown",
   "id": "74635929",
   "metadata": {},
   "source": [
    "# Q2 Write a function that converts a dictionary into a list of keys-values tuples.\n",
    "# Examples\n",
    "# dict_to_list({\n",
    "# &quot;D&quot;: 1,\n",
    "# &quot;B&quot;: 2,\n",
    "# &quot;C&quot;: 3\n",
    "# }) ➞ [(&quot;B&quot;, 2), (&quot;C&quot;, 3), (&quot;D&quot;, 1)]\n",
    "# dict_to_list({\n",
    "# &quot;likes&quot;: 2,\n",
    "# &quot;dislikes&quot;: 3,\n",
    "# &quot;followers&quot;: 10\n",
    "# }) ➞ [(&quot;dislikes&quot;, 3), (&quot;followers&quot;, 10), (&quot;likes&quot;, 2)]\n",
    "# Notes\n",
    "# Return the elements in the list in alphabetical order."
   ]
  },
  {
   "cell_type": "code",
   "execution_count": null,
   "id": "bcf389e3",
   "metadata": {},
   "outputs": [],
   "source": [
    "To convert a dictionary into a list of key-value tuples, you can use the items() method of the dictionary, which returns a view object containing the key-value pairs. You can then convert this view object into a list and sort it based on the keys. Here's the implementation of the dict_to_list function:\n",
    "def dict_to_list(dictionary):\n",
    "    return sorted(dictionary.items())\n",
    "In this function, dictionary.items() returns a view object with key-value pairs from the dictionary. We convert this view object into a list using list(). Finally, we use the sorted() function to sort the list of tuples based on the keys.\n",
    "\n",
    "Let's test the function with the given examples:\n",
    "print(dict_to_list({\"D\": 1, \"B\": 2, \"C\": 3}))\n",
    "# Output: [('B', 2), ('C', 3), ('D', 1)]\n",
    "\n",
    "print(dict_to_list({\"likes\": 2, \"dislikes\": 3, \"followers\": 10}))\n",
    "# Output: [('dislikes', 3), ('followers', 10), ('likes', 2)]\n"
   ]
  },
  {
   "cell_type": "markdown",
   "id": "45dc8e33",
   "metadata": {},
   "source": [
    "# Q3 Write a function that creates a dictionary with each (key, value) pair being the (lower case, upper case) versions of a letter, respectively.\n",
    "# Examples\n",
    "# mapping([&quot;p&quot;, &quot;s&quot;]) ➞ { &quot;p&quot;: &quot;P&quot;, &quot;s&quot;: &quot;S&quot; }\n",
    "\n",
    "# mapping([&quot;a&quot;, &quot;b&quot;, &quot;c&quot;]) ➞ { &quot;a&quot;: &quot;A&quot;, &quot;b&quot;: &quot;B&quot;, &quot;c&quot;: &quot;C&quot; }\n",
    "# mapping([&quot;a&quot;, &quot;v&quot;, &quot;y&quot;, &quot;z&quot;]) ➞ { &quot;a&quot;: &quot;A&quot;, &quot;v&quot;: &quot;V&quot;, &quot;y&quot;: &quot;Y&quot;, &quot;z&quot;: &quot;Z&quot; }\n",
    "# Notes\n",
    "# All of the letters in the input list will always be lowercase."
   ]
  },
  {
   "cell_type": "code",
   "execution_count": null,
   "id": "a7954b21",
   "metadata": {},
   "outputs": [],
   "source": [
    "def mapping(letters):\n",
    "    return {letter: letter.upper() for letter in letters}\n",
    "\n",
    "Let's test the function with the given examples:\n",
    "print(mapping([\"p\", \"s\"]))\n",
    "# Output: {'p': 'P', 's': 'S'}\n",
    "\n",
    "print(mapping([\"a\", \"b\", \"c\"]))\n",
    "# Output: {'a': 'A', 'b': 'B', 'c': 'C'}\n",
    "\n",
    "print(mapping([\"a\", \"v\", \"y\", \"z\"]))\n",
    "# Output: {'a': 'A', 'v': 'V', 'y': 'Y', 'z': 'Z'}\n"
   ]
  },
  {
   "cell_type": "markdown",
   "id": "e4fe57d6",
   "metadata": {},
   "source": [
    "# Q4 Write a function, that replaces all vowels in a string with a specified vowel.\n",
    "# Examples\n",
    "# vow_replace(&quot;apples and bananas&quot;, &quot;u&quot;) ➞ &quot;upplus und bununus&quot;\n",
    "# vow_replace(&quot;cheese casserole&quot;, &quot;o&quot;) ➞ &quot;chooso cossorolo&quot;\n",
    "# vow_replace(&quot;stuffed jalapeno poppers&quot;, &quot;e&quot;) ➞ &quot;steffed jelepene peppers&quot;\n",
    "# Notes\n",
    "# All words will be lowercase. Y is not considered a vowel."
   ]
  },
  {
   "cell_type": "code",
   "execution_count": null,
   "id": "41de275e",
   "metadata": {},
   "outputs": [],
   "source": [
    "def vow_replace(string, vowel):\n",
    "    vowels = 'aeiou'\n",
    "    result = ''\n",
    "    for char in string:\n",
    "        if char in vowels:\n",
    "            result += vowel\n",
    "        else:\n",
    "            result += char\n",
    "    return result\n",
    "\n",
    "Let's test the function with the given examples:\n",
    "print(vow_replace(\"apples and bananas\", \"u\"))\n",
    "# Output: \"upplus und bununus\"\n",
    "\n",
    "print(vow_replace(\"cheese casserole\", \"o\"))\n",
    "# Output: \"chooso cossorolo\"\n",
    "\n",
    "print(vow_replace(\"stuffed jalapeno poppers\", \"e\"))\n",
    "# Output: \"steffed jelepene peppers\"\n"
   ]
  },
  {
   "cell_type": "markdown",
   "id": "047738d4",
   "metadata": {},
   "source": [
    "# Q5 Create a function that takes a string as input and capitalizes a letter if its ASCII code is even and returns its lower case version if its ASCII code is odd.\n",
    "# Examples\n",
    "# ascii_capitalize(&quot;to be or not to be!&quot;) ➞ &quot;To Be oR NoT To Be!&quot;\n",
    "# ascii_capitalize(&quot;THE LITTLE MERMAID&quot;) ➞ &quot;THe LiTTLe meRmaiD&quot;\n",
    "# ascii_capitalize(&quot;Oh what a beautiful morning.&quot;) ➞ &quot;oH wHaT a BeauTiFuL\n",
    "# moRNiNg.&quot;"
   ]
  },
  {
   "cell_type": "code",
   "execution_count": null,
   "id": "3cda5f9a",
   "metadata": {},
   "outputs": [],
   "source": [
    "def ascii_capitalize(string):\n",
    "    result = ''\n",
    "    for char in string:\n",
    "        if ord(char) % 2 == 0:\n",
    "            result += char.upper()\n",
    "        else:\n",
    "            result += char.lower()\n",
    "    return result\n",
    "\n",
    "Let's test the function with the given examples:\n",
    "print(ascii_capitalize(\"to be or not to be!\"))\n",
    "# Output: \"To Be oR NoT To Be!\"\n",
    "\n",
    "print(ascii_capitalize(\"THE LITTLE MERMAID\"))\n",
    "# Output: \"THe LiTTLe meRmaiD\"\n",
    "\n",
    "print(ascii_capitalize(\"Oh what a beautiful morning.\"))\n",
    "# Output: \"oH wHaT a BeauTiFuL moRNiNg.\"\n"
   ]
  }
 ],
 "metadata": {
  "kernelspec": {
   "display_name": "Python 3 (ipykernel)",
   "language": "python",
   "name": "python3"
  },
  "language_info": {
   "codemirror_mode": {
    "name": "ipython",
    "version": 3
   },
   "file_extension": ".py",
   "mimetype": "text/x-python",
   "name": "python",
   "nbconvert_exporter": "python",
   "pygments_lexer": "ipython3",
   "version": "3.9.12"
  }
 },
 "nbformat": 4,
 "nbformat_minor": 5
}
